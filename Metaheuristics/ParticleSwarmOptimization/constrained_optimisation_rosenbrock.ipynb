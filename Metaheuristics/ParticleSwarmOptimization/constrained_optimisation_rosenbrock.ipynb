{
 "cells": [
  {
   "cell_type": "markdown",
   "metadata": {
    "pycharm": {
     "name": "#%% md\n"
    }
   },
   "source": [
    "## Sanjay Santokee - sanjay.santokee@my.uwi.edu"
   ]
  },
  {
   "cell_type": "code",
   "execution_count": 2,
   "metadata": {},
   "outputs": [],
   "source": [
    "%load_ext autoreload\n",
    "%autoreload 2"
   ]
  },
  {
   "cell_type": "code",
   "execution_count": 3,
   "metadata": {
    "pycharm": {
     "is_executing": false
    }
   },
   "outputs": [
    {
     "name": "stdout",
     "output_type": "stream",
     "text": [
      "Populating the interactive namespace from numpy and matplotlib\n"
     ]
    }
   ],
   "source": [
    "%pylab inline\n",
    "import numpy as np \n",
    "import math"
   ]
  },
  {
   "cell_type": "code",
   "execution_count": 4,
   "metadata": {
    "pycharm": {
     "is_executing": false,
     "name": "#%%\n"
    }
   },
   "outputs": [],
   "source": [
    "class Particle(object):\n",
    "    def __init__(self, n, low=-50, high=50):\n",
    "        super().__init__()\n",
    "        self.state = np.random.uniform(low=low, high=high, size=n)\n",
    "        self.best_state = np.copy(self.state)\n",
    "        self.velocity = np.zeros_like(self.state)\n",
    "        self.best_score = -10000000\n",
    "    \n",
    "    def compute_velocity(self, inertia_factor, global_best):\n",
    "        exploitation = np.random.random() * (self.best_state - self.state)\n",
    "        exploration = np.random.random() * (global_best.state - self.state)\n",
    "        inertia = inertia_factor * self.velocity\n",
    "        self.velocity = inertia + exploration + exploitation\n",
    "    \n",
    "    def apply_velocity_update(self):\n",
    "        self.state = self.state + self.velocity\n",
    "        \n",
    "    def compute_fitness(self, fitness_func):\n",
    "        fitness = fitness_func(self.state)\n",
    "        if self.best_score < fitness:\n",
    "            self.best_score = fitness\n",
    "            self.best_state = self.state\n",
    "        return fitness"
   ]
  },
  {
   "cell_type": "markdown",
   "metadata": {},
   "source": [
    "### Rosenbrock Function for fitness"
   ]
  },
  {
   "cell_type": "markdown",
   "metadata": {},
   "source": [
    "$f(x, y) = (100(y - x^2)^2) + (1 - x)^2)$\n",
    "\n",
    "\n",
    "$\\text{global minimum of 0 at }f(1, 1) $"
   ]
  },
  {
   "cell_type": "markdown",
   "metadata": {
    "pycharm": {
     "name": "#%% md\n"
    }
   },
   "source": [
    "#### Reformulate the penalty from \n",
    "\n",
    "$ x^2 + y^2 \\leq 2 \\hspace{0.5cm}$ to $\\hspace{0.5cm}  x^2 + y^2 -2 \\leq 0 $\n",
    "\n"
   ]
  },
  {
   "cell_type": "markdown",
   "metadata": {},
   "source": [
    "$\\min_{x, y} \\hspace{2.8cm} sin(y)e^{[(1-cos(x))^2]} + cos(y)e^{[1-sin(x))^2]} - (x-y)^2$\n",
    "\n",
    "$subject \\ to \\hspace{2cm} (x+5)^2 + (y+5)^2 \\leq 25$\n",
    "\n",
    "$f(x, y) = sin(x)e^{(1-cos(y))^2}+cos(y)e^{(1-sin(x))^2}+(x-y)^2$\n"
   ]
  },
  {
   "cell_type": "code",
   "execution_count": 4,
   "metadata": {
    "pycharm": {
     "is_executing": false
    }
   },
   "outputs": [],
   "source": [
    "def compute_penalty(x, y):   \n",
    "    penalty = (np.maximum(0, x**2 + y**2 - 2))**2\n",
    "    \n",
    "    penalty = (np.maximum(0, x**2 + y**2 - 2))**2\n",
    "    \n",
    "    return penalty"
   ]
  },
  {
   "cell_type": "code",
   "execution_count": 5,
   "metadata": {
    "pycharm": {
     "is_executing": false
    }
   },
   "outputs": [],
   "source": [
    "def fitness(state):\n",
    "    x = state[0]\n",
    "    y = state[1]\n",
    "    \n",
    "    f = 100 * ((y - x**2)**2) + (1 - x)**2\n",
    "    f = (math.sin(y) * math.e**((1 - math.cos(x))**2)) + (math.cos(y) * math.e**((1 - math.sin(x))**2)) - ((x - y)**2)\n",
    "    f *= -1\n",
    "    \n",
    "    r= 100\n",
    "    penalty = compute_penalty(x, y)\n",
    "    \n",
    "    T = f - penalty * r\n",
    "    \n",
    "    return T"
   ]
  },
  {
   "cell_type": "code",
   "execution_count": 6,
   "metadata": {
    "pycharm": {
     "is_executing": false
    }
   },
   "outputs": [],
   "source": [
    "n = 2\n",
    "num_particles = 10000\n",
    "num_iterations = 1000\n",
    "inertia_factor = 0.25 #decrease = does randomly, increase = uses history and might make it continue to be stuck.\n",
    "global_best = np.zeros(n)\n",
    "global_best_fitness = -1000000000"
   ]
  },
  {
   "cell_type": "code",
   "execution_count": 7,
   "metadata": {
    "pycharm": {
     "is_executing": false
    }
   },
   "outputs": [],
   "source": [
    "particles = [Particle(n) for _ in range(num_particles)]\n",
    "convergence_curve = []"
   ]
  },
  {
   "cell_type": "code",
   "execution_count": 8,
   "metadata": {
    "pycharm": {
     "is_executing": false
    }
   },
   "outputs": [],
   "source": [
    "for i in range(num_iterations):\n",
    "    for p in particles:\n",
    "        fitness_of_p = p.compute_fitness(fitness)\n",
    "        if fitness_of_p > global_best_fitness:\n",
    "            global_best_fitness = fitness_of_p\n",
    "            global_best = p\n",
    "    for p in particles:\n",
    "        p.compute_velocity(inertia_factor, global_best)\n",
    "    for p in particles:\n",
    "        p.apply_velocity_update()\n",
    "    convergence_curve.append(global_best_fitness)"
   ]
  },
  {
   "cell_type": "code",
   "execution_count": 9,
   "metadata": {
    "pycharm": {
     "is_executing": false
    }
   },
   "outputs": [
    {
     "data": {
      "text/plain": [
       "array([1., 1.])"
      ]
     },
     "execution_count": 9,
     "metadata": {},
     "output_type": "execute_result"
    }
   ],
   "source": [
    "global_best.best_state"
   ]
  },
  {
   "cell_type": "code",
   "execution_count": 10,
   "metadata": {
    "pycharm": {
     "is_executing": false,
     "name": "#%%\n"
    }
   },
   "outputs": [
    {
     "data": {
      "text/plain": [
       "-0.0"
      ]
     },
     "execution_count": 10,
     "metadata": {},
     "output_type": "execute_result"
    }
   ],
   "source": [
    "global_best.best_score"
   ]
  },
  {
   "cell_type": "markdown",
   "metadata": {
    "pycharm": {
     "name": "#%% md\n"
    }
   },
   "source": [
    "-0.0 was shown as the best score due to python's method returning of negative float values.\n",
    "\n",
    "The best score found is 0.  "
   ]
  },
  {
   "cell_type": "code",
   "execution_count": 11,
   "metadata": {
    "pycharm": {
     "is_executing": false
    }
   },
   "outputs": [
    {
     "data": {
      "text/plain": [
       "[<matplotlib.lines.Line2D at 0x1de395c0fc8>]"
      ]
     },
     "execution_count": 11,
     "metadata": {},
     "output_type": "execute_result"
    },
    {
     "data": {
      "image/png": "[encoded data removed]",
      "text/plain": [
       "<Figure size 432x288 with 1 Axes>"
      ]
     },
     "metadata": {
      "needs_background": "light"
     },
     "output_type": "display_data"
    }
   ],
   "source": [
    "plot(list(range(len(convergence_curve))), convergence_curve)"
   ]
  }
 ],
 "metadata": {
  "kernelspec": {
   "display_name": "Python 3",
   "language": "python",
   "name": "python3"
  },
  "language_info": {
   "codemirror_mode": {
    "name": "ipython",
    "version": 3
   },
   "file_extension": ".py",
   "mimetype": "text/x-python",
   "name": "python",
   "nbconvert_exporter": "python",
   "pygments_lexer": "ipython3",
   "version": "3.7.4"
  }
 },
 "nbformat": 4,
 "nbformat_minor": 4
}