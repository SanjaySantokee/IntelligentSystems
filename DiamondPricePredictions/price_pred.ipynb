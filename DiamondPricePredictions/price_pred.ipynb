{
 "cells": [
  {
   "cell_type": "markdown",
   "metadata": {},
   "source": [
    "## Sanjay Santokee - sanjay.santokee@my.uwi.edu"
   ]
  },
  {
   "cell_type": "code",
   "execution_count": 1,
   "metadata": {
    "pycharm": {
     "is_executing": false
    }
   },
   "outputs": [],
   "source": [
    "%load_ext autoreload\n",
    "%autoreload 2"
   ]
  },
  {
   "cell_type": "markdown",
   "metadata": {},
   "source": [
    "#### Imports"
   ]
  },
  {
   "cell_type": "code",
   "execution_count": 2,
   "metadata": {
    "pycharm": {
     "is_executing": false
    }
   },
   "outputs": [],
   "source": [
    "import pandas as pd\n",
    "import numpy as np\n",
    "\n",
    "from sklearn.linear_model import Lasso,LinearRegression, Ridge\n",
    "from sklearn.model_selection import train_test_split, KFold\n",
    "\n",
    "from matplotlib import pyplot as plt\n",
    "import seaborn as sns\n",
    "%matplotlib inline"
   ]
  },
  {
   "cell_type": "markdown",
   "metadata": {},
   "source": [
    "#### Reading in the encoded data"
   ]
  },
  {
   "cell_type": "code",
   "execution_count": 3,
   "metadata": {
    "pycharm": {
     "is_executing": false
    }
   },
   "outputs": [],
   "source": [
    "X = []\n",
    "y = []\n",
    "\n",
    "with open('X.npy', 'rb') as fp:\n",
    "    X = np.load(fp)\n",
    "with open('y.npy', 'rb') as fp:\n",
    "    y = np.load(fp)"
   ]
  },
  {
   "cell_type": "markdown",
   "metadata": {},
   "source": [
    "#### MAPE Metric Function to Evaluate Model's Performance"
   ]
  },
  {
   "cell_type": "code",
   "execution_count": 4,
   "metadata": {
    "pycharm": {
     "is_executing": false
    }
   },
   "outputs": [],
   "source": [
    "def mape(actual, predicted):\n",
    "    diff = np.abs(actual - predicted)\n",
    "    factor = diff / actual\n",
    "    return np.mean(factor) * 100"
   ]
  },
  {
   "cell_type": "markdown",
   "metadata": {},
   "source": [
    "#### KFold with 5 folds"
   ]
  },
  {
   "cell_type": "code",
   "execution_count": 5,
   "metadata": {
    "pycharm": {
     "is_executing": false
    }
   },
   "outputs": [
    {
     "data": {
      "text/plain": [
       "5"
      ]
     },
     "execution_count": 5,
     "metadata": {},
     "output_type": "execute_result"
    }
   ],
   "source": [
    "k_fold = KFold(n_splits=5)\n",
    "k_fold.get_n_splits(X)"
   ]
  },
  {
   "cell_type": "markdown",
   "metadata": {},
   "source": [
    "#### Fitting and Calculating MAPE for Linear, LASSO and Ridge Regression"
   ]
  },
  {
   "cell_type": "code",
   "execution_count": 6,
   "metadata": {
    "pycharm": {
     "is_executing": false
    }
   },
   "outputs": [],
   "source": [
    "lin_reg_mape = []\n",
    "lasso_reg_mape = []\n",
    "ridge_reg_mape = []\n",
    "\n",
    "for train_index, test_index in k_fold.split(X, y):\n",
    "    X_train, X_test = X[train_index], X[test_index]\n",
    "    y_train, y_test = y[train_index], y[test_index]\n",
    "    \n",
    "    linearReg = LinearRegression()\n",
    "    linearReg.fit(X_train, y_train)\n",
    "    linear_reg_y_pred = linearReg.predict(X_test)\n",
    "    \n",
    "    lassoReg = Lasso(alpha=0.3, normalize=True)\n",
    "    lassoReg.fit(X_train, y_train)\n",
    "    lasso_y_pred = lassoReg.predict(X_test)\n",
    "    \n",
    "    ridgeReg = Ridge(alpha=0.3, normalize=True)\n",
    "    ridgeReg.fit(X_train,y_train)\n",
    "    ridge_y_pred = ridgeReg.predict(X_test)\n",
    "    \n",
    "    lin_reg_mape.append(mape(y_test, linear_reg_y_pred))\n",
    "    lasso_reg_mape.append(mape(y_test, lasso_y_pred))\n",
    "    ridge_reg_mape.append(mape(y_test, ridge_y_pred))\n",
    "\n",
    "    \n",
    "lin_reg_mape = np.array(lin_reg_mape)\n",
    "lasso_reg_mape = np.array(lasso_reg_mape)\n",
    "ridge_reg_mape = np.array(ridge_reg_mape)"
   ]
  },
  {
   "cell_type": "markdown",
   "metadata": {},
   "source": [
    "#### Calculating the Mean and Standard Deviation of Each Model"
   ]
  },
  {
   "cell_type": "code",
   "execution_count": 7,
   "metadata": {},
   "outputs": [
    {
     "data": {
      "text/html": [
       "<div>\n",
       "<style scoped>\n",
       "    .dataframe tbody tr th:only-of-type {\n",
       "        vertical-align: middle;\n",
       "    }\n",
       "\n",
       "    .dataframe tbody tr th {\n",
       "        vertical-align: top;\n",
       "    }\n",
       "\n",
       "    .dataframe thead th {\n",
       "        text-align: right;\n",
       "    }\n",
       "</style>\n",
       "<table border=\"1\" class=\"dataframe\">\n",
       "  <thead>\n",
       "    <tr style=\"text-align: right;\">\n",
       "      <th></th>\n",
       "      <th>Model</th>\n",
       "      <th>Average MAPE Score</th>\n",
       "      <th>Standard Deviation of MAPE</th>\n",
       "    </tr>\n",
       "  </thead>\n",
       "  <tbody>\n",
       "    <tr>\n",
       "      <td>0</td>\n",
       "      <td>Linear Regression</td>\n",
       "      <td>37.044293</td>\n",
       "      <td>9.050566</td>\n",
       "    </tr>\n",
       "    <tr>\n",
       "      <td>1</td>\n",
       "      <td>LASSO Regression</td>\n",
       "      <td>40.781990</td>\n",
       "      <td>11.231119</td>\n",
       "    </tr>\n",
       "    <tr>\n",
       "      <td>2</td>\n",
       "      <td>Ridge Regression</td>\n",
       "      <td>50.600446</td>\n",
       "      <td>15.014052</td>\n",
       "    </tr>\n",
       "  </tbody>\n",
       "</table>\n",
       "</div>"
      ],
      "text/plain": [
       "               Model  Average MAPE Score  Standard Deviation of MAPE\n",
       "0  Linear Regression           37.044293                    9.050566\n",
       "1   LASSO Regression           40.781990                   11.231119\n",
       "2   Ridge Regression           50.600446                   15.014052"
      ]
     },
     "execution_count": 7,
     "metadata": {},
     "output_type": "execute_result"
    }
   ],
   "source": [
    "performance_df = pd.DataFrame(columns=['Model', 'Average MAPE Score', 'Standard Deviation of MAPE'])\n",
    "\n",
    "performance_df = performance_df.append({'Model': 'Linear Regression', 'Average MAPE Score': np.mean(lin_reg_mape), 'Standard Deviation of MAPE': np.std(lin_reg_mape)},  ignore_index=True)\n",
    "performance_df = performance_df.append({'Model': 'LASSO Regression', 'Average MAPE Score': np.mean(lasso_reg_mape), 'Standard Deviation of MAPE': np.std(lasso_reg_mape)},  ignore_index=True)\n",
    "performance_df = performance_df.append({'Model': 'Ridge Regression', 'Average MAPE Score': np.mean(ridge_reg_mape), 'Standard Deviation of MAPE': np.std(ridge_reg_mape)},  ignore_index=True)\n",
    "\n",
    "performance_df"
   ]
  },
  {
   "cell_type": "markdown",
   "metadata": {},
   "source": [
    "#### Visualizing Results"
   ]
  },
  {
   "cell_type": "code",
   "execution_count": 8,
   "metadata": {},
   "outputs": [],
   "source": [
    "sns.set(style=\"darkgrid\")\n",
    "sns.set(color_codes=True)\n",
    "sns.set_palette(sns.color_palette(\"bright\"))"
   ]
  },
  {
   "cell_type": "code",
   "execution_count": 9,
   "metadata": {},
   "outputs": [
    {
     "data": {
      "image/png": "[encoded data removed]",
      "text/plain": [
       "<Figure size 864x504 with 1 Axes>"
      ]
     },
     "metadata": {},
     "output_type": "display_data"
    }
   ],
   "source": [
    "plt.figure(figsize=(12, 7))\n",
    "plt.title(\"Average MAPE Score of all Models\")\n",
    "ax = sns.barplot(x=\"Model\", y=\"Average MAPE Score\", data=performance_df)\n",
    "plt.xlabel(\"Model\")\n",
    "plt.ylabel(\"Average MAPE Score\")\n",
    "plt.show(ax)"
   ]
  },
  {
   "cell_type": "code",
   "execution_count": 10,
   "metadata": {},
   "outputs": [
    {
     "data": {
      "image/png": "[encoded data removed]",
      "text/plain": [
       "<Figure size 864x504 with 1 Axes>"
      ]
     },
     "metadata": {},
     "output_type": "display_data"
    }
   ],
   "source": [
    "plt.figure(figsize=(12, 7))\n",
    "plt.title(\"Standard Deviation of MAPE for all Models\")\n",
    "ax = sns.barplot(x=\"Model\", y=\"Standard Deviation of MAPE\", data=performance_df)\n",
    "plt.xlabel(\"Model\")\n",
    "plt.ylabel(\"tandard Deviation of MAPE\")\n",
    "plt.show(ax)"
   ]
  }
 ],
 "metadata": {
  "kernelspec": {
   "display_name": "Python 3",
   "language": "python",
   "name": "python3"
  },
  "language_info": {
   "codemirror_mode": {
    "name": "ipython",
    "version": 3
   },
   "file_extension": ".py",
   "mimetype": "text/x-python",
   "name": "python",
   "nbconvert_exporter": "python",
   "pygments_lexer": "ipython3",
   "version": "3.7.4"
  }
 },
 "nbformat": 4,
 "nbformat_minor": 4
}