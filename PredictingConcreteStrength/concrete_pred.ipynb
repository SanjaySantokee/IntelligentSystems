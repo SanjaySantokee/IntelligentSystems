{
 "cells": [
  {
   "cell_type": "markdown",
   "metadata": {},
   "source": [
    "## Sanjay Santokee - sanjay.santokee@my.uwi.edu\n"
   ]
  },
  {
   "cell_type": "code",
   "execution_count": 1,
   "metadata": {},
   "outputs": [],
   "source": [
    "%load_ext autoreload\n",
    "%autoreload 2"
   ]
  },
  {
   "cell_type": "markdown",
   "metadata": {},
   "source": [
    "***\n",
    "\n",
    "#### Experimental Pipeline\n",
    "\n",
    "- Data Loading\n",
    "    \n",
    "    Begin by loading in the concrete data set, which would be provided in a Numpy data file. \n",
    "\n",
    "- Data Pre-processing\n",
    "    \n",
    "    The concrete data set should then be divided into inputs and target data sets. The set of inputs, $x_i$, (independent variables) are to be extrapolated from the concrete data set and set to its own data set, `x`. In this case, the inputs are  the columns: Cement, Blast Furnace Slag, Fly Ash, Water, Superplasticizer, Coarse Aggregate, Fine Aggregate and Age. \n",
    "\n",
    "    Then the output, $y$, (dependant variable) in this case being the column: Concrete compressive strength would be set into its own data set, `y`.\n",
    "\n",
    "- As all of the data types being quantitative, encoding is not to be done.\n",
    "\n",
    "- Setting up K-Fold Cross-Validation. \n",
    "\n",
    "    Cross-validation is used since the amount of data for concrete samples provided was not a large amount. \n",
    "    \n",
    "    With K-Fold, both the input and target data would be shuffled and then split into $k$ groups, in this case $k$ would be set to five. \n",
    "    \n",
    "    A for-loop is done on the folds. Groups are generated on each fold.\n",
    "    \n",
    "    Each group would be selected as a test set on each fold (iteration) and the other groups would be used as training data. This means that each group is provided with the chance to be tested, improving the estimate on the machine learning model for unseen data to become more generalized. \n",
    "\n",
    "- Scaling the Data with StandardScaler\n",
    "\n",
    "    On any fold (iteration) when a group is selected as testing data and the rest of groups are training data, only the input training set of values (`X_train`) are used to fit a StandardScaler. After fitting, the StandardScaler would then be used to transform both the input training set (`X_train`) and the input testing set (`X_test`). This is performed on every fold and is done so that the variance of the input features are in the same range. The targets (`y_train` and `y_test`) are not to be scaled.\n",
    "\n",
    "- Fitting The Machine Learning Models\n",
    "\n",
    "    After scaling the input data, two machine learning models, Model A & Model B are to be instantiated and then fitted with the input training data (`X_train`) and the target training data (`y_train`). Both models would then utilize the input testing set (`X_test`) in order to produce predictions, which are the possible target values, based on the data it was just trained on. \n",
    "\n",
    "- Evaluating Model Performance\n",
    "\n",
    "    After producing predictions, it is then used together with the input testing set (`X_test`) in order to calculate the values for the various performance metrics. These would include the Root Mean Squared Error, Mean Absolute Error, Mean Absolute Percentage Error and $r^2$ metrics. On each fold, a value for each metric is calculated and added to an array. The mean of each of these arrays would then be able to produce the overall metric values. After all fitting of models, a t-test would then be done on both models in order to statistically determine whether or not there is a significant differrence between the performance of Model A and Model B.\n",
    "\n",
    "- Lastly, the various metric results would then need to be examined in order to determine which model outperforms the other. \n",
    "    1. RMSE - the lower value is the better\n",
    "    2. MAE - the lower value is the better\n",
    "    3. MAPE - the lower value is the better\n",
    "    4. $r^2$ - the higher value is the better, it will always be less than or equal to 1."
   ]
  },
  {
   "cell_type": "markdown",
   "metadata": {
    "pycharm": {
     "name": "#%% md\n"
    }
   },
   "source": [
    "***\n",
    "### (d)"
   ]
  },
  {
   "cell_type": "markdown",
   "metadata": {
    "pycharm": {
     "name": "#%% md\n"
    }
   },
   "source": [
    "#### Importing Necessary Libraries"
   ]
  },
  {
   "cell_type": "code",
   "execution_count": 2,
   "metadata": {
    "pycharm": {
     "name": "#%%\n"
    }
   },
   "outputs": [
    {
     "name": "stdout",
     "output_type": "stream",
     "text": [
      "Populating the interactive namespace from numpy and matplotlib\n"
     ]
    }
   ],
   "source": [
    "%pylab inline\n",
    "import numpy as np\n",
    "import pandas as pd\n",
    "import sklearn.model_selection as selection\n",
    "from sklearn.preprocessing import StandardScaler\n",
    "from sklearn.linear_model import LinearRegression\n",
    "from sklearn.metrics import mean_squared_error, r2_score, mean_absolute_error\n",
    "\n",
    "import torch as th\n",
    "import torch.nn as nn\n",
    "import torch.optim as optim\n",
    "import scipy.stats as stats\n",
    "import matplotlib.pyplot as plt "
   ]
  },
  {
   "cell_type": "markdown",
   "metadata": {
    "pycharm": {
     "is_executing": false,
     "name": "#%% md\n"
    }
   },
   "source": [
    "#### Loading Numpy Data"
   ]
  },
  {
   "cell_type": "code",
   "execution_count": 3,
   "metadata": {
    "pycharm": {
     "name": "#%%\n"
    }
   },
   "outputs": [],
   "source": [
    "concrete_df = np.load('concrete.npy')"
   ]
  },
  {
   "cell_type": "markdown",
   "metadata": {
    "pycharm": {
     "name": "#%% md\n"
    }
   },
   "source": [
    "#### Splitting data into inputs and target\n",
    "\n",
    "input ← Columns 0 to 7  \n",
    "target ← Column 8"
   ]
  },
  {
   "cell_type": "code",
   "execution_count": 4,
   "metadata": {},
   "outputs": [],
   "source": [
    "df = np.hsplit(concrete_df, [8])"
   ]
  },
  {
   "cell_type": "code",
   "execution_count": 5,
   "metadata": {
    "pycharm": {
     "name": "#%%\n"
    }
   },
   "outputs": [],
   "source": [
    "x = df[0]\n",
    "y = df[1]"
   ]
  },
  {
   "cell_type": "code",
   "execution_count": 6,
   "metadata": {},
   "outputs": [
    {
     "data": {
      "text/plain": [
       "16.697630409134263"
      ]
     },
     "execution_count": 6,
     "metadata": {},
     "output_type": "execute_result"
    }
   ],
   "source": [
    "np.std(y)"
   ]
  },
  {
   "cell_type": "markdown",
   "metadata": {
    "pycharm": {
     "name": "#%% md\n"
    }
   },
   "source": [
    "#### Setting up Models for Neural Network"
   ]
  },
  {
   "cell_type": "code",
   "execution_count": 7,
   "metadata": {
    "collapsed": false,
    "jupyter": {
     "outputs_hidden": false
    },
    "pycharm": {
     "name": "#%%\n"
    }
   },
   "outputs": [],
   "source": [
    "class NetworkModel(nn.Module):\n",
    "    def __init__(self):\n",
    "        super().__init__()\n",
    "        self.loss_func = nn.MSELoss()\n",
    "        \n",
    "    def forward(self, x):\n",
    "        return None \n",
    "    \n",
    "    def loss(self, x, y):\n",
    "        probs = self.forward(x)\n",
    "        return self.loss_func(probs, y)\n",
    "    \n",
    "    def predict_proba(self, x, as_numpy=False):\n",
    "        res = self.forward(x)\n",
    "        if as_numpy:\n",
    "            res = res.detach().numpy()\n",
    "        return res\n",
    "    \n",
    "    def predict(self, x, threshold=0.5, as_numpy=False):\n",
    "        probs = self.predict_proba(x, as_numpy)\n",
    "        return probs\n",
    "    \n",
    "    def fit(self, x, y, lr, lam, epochs=800):\n",
    "        optimizer = optim.RMSprop(self.parameters(), lr=lr)\n",
    "        loss_curve = []\n",
    "        for _ in range(epochs):\n",
    "            optimizer.zero_grad()\n",
    "            loss_val = self.loss(x, y) + self.regularize(lam)\n",
    "            loss_curve.append(loss_val.data.item())\n",
    "            loss_val.backward()\n",
    "            optimizer.step()\n",
    "        return loss_curve\n",
    "    \n",
    "    def regularize(self, lam):\n",
    "        loss_val = 0\n",
    "        for p in self.parameters():\n",
    "            loss_val += lam * th.norm(p)\n",
    "        return loss_val"
   ]
  },
  {
   "cell_type": "code",
   "execution_count": 8,
   "metadata": {
    "collapsed": false,
    "jupyter": {
     "outputs_hidden": false
    },
    "pycharm": {
     "name": "#%%\n"
    }
   },
   "outputs": [],
   "source": [
    "class NNModel(NetworkModel):\n",
    "    def __init__(self):\n",
    "        super().__init__()\n",
    "        self.l1 = nn.Linear(8, 16, bias=True)\n",
    "        self.act1 = nn.ELU()         # ELU activation function\n",
    "        self.l2 = nn.Linear(16, 8, bias=True)\n",
    "        self.act2 = nn.GELU()       # Gaussian Error Linear Units activation function\n",
    "        self.l3 = nn.Linear(8, 1, bias=True)\n",
    "        \n",
    "    def get_intermediary(self, x):\n",
    "        res = self.l1(x)\n",
    "        res = self.act1(res)\n",
    "        return res\n",
    "        \n",
    "    def forward(self, x):\n",
    "        res = self.l1(x)\n",
    "        res = self.act1(res)\n",
    "        res = self.l2(res)\n",
    "        res = self.act2(res)\n",
    "        res = self.l3(res)\n",
    "        return res    \n",
    "    "
   ]
  },
  {
   "cell_type": "markdown",
   "metadata": {},
   "source": [
    "#### Function to Calculate MAPE"
   ]
  },
  {
   "cell_type": "code",
   "execution_count": 9,
   "metadata": {},
   "outputs": [],
   "source": [
    "def mape(actual, predicted, eps=0.00001):\n",
    "    if th.is_tensor(actual):\n",
    "        actual = actual.numpy()\n",
    "        \n",
    "    diff = np.abs(actual - predicted)\n",
    "    factor = (diff / (actual + eps)) * 100\n",
    "    return np.mean(factor)"
   ]
  },
  {
   "cell_type": "markdown",
   "metadata": {},
   "source": [
    "#### Function to Plot Loss Curve"
   ]
  },
  {
   "cell_type": "code",
   "execution_count": 10,
   "metadata": {
    "collapsed": false,
    "jupyter": {
     "outputs_hidden": false
    },
    "pycharm": {
     "name": "#%%\n"
    }
   },
   "outputs": [],
   "source": [
    "def plot_loss(loss_curve):\n",
    "    plt.plot(list(range(len(loss_curve))), loss_curve)"
   ]
  },
  {
   "cell_type": "markdown",
   "metadata": {},
   "source": [
    "#### Setting up KFold"
   ]
  },
  {
   "cell_type": "code",
   "execution_count": 11,
   "metadata": {
    "collapsed": false,
    "jupyter": {
     "outputs_hidden": false
    },
    "pycharm": {
     "name": "#%%\n"
    }
   },
   "outputs": [
    {
     "data": {
      "text/plain": [
       "5"
      ]
     },
     "execution_count": 11,
     "metadata": {},
     "output_type": "execute_result"
    }
   ],
   "source": [
    "kf = selection.KFold(n_splits=5, shuffle=True)\n",
    "kf.get_n_splits(x)"
   ]
  },
  {
   "cell_type": "markdown",
   "metadata": {
    "pycharm": {
     "name": "#%% md\n"
    }
   },
   "source": [
    "#### Lists to store models' performances"
   ]
  },
  {
   "cell_type": "code",
   "execution_count": 12,
   "metadata": {
    "collapsed": false,
    "jupyter": {
     "outputs_hidden": false
    },
    "pycharm": {
     "name": "#%%\n"
    }
   },
   "outputs": [],
   "source": [
    "mse_lr = []\n",
    "mae_lr = []\n",
    "mape_lr = []\n",
    "r2_lr = []\n",
    "\n",
    "mse_nn = [] \n",
    "mae_nn = []\n",
    "mape_nn =[]\n",
    "r2_nn = []"
   ]
  },
  {
   "cell_type": "markdown",
   "metadata": {
    "pycharm": {
     "name": "#%% md\n"
    }
   },
   "source": [
    "#### Fitting Neural Network Model and Linear Regression Model"
   ]
  },
  {
   "cell_type": "code",
   "execution_count": 13,
   "metadata": {
    "collapsed": false,
    "jupyter": {
     "outputs_hidden": false
    },
    "pycharm": {
     "name": "#%%\n"
    }
   },
   "outputs": [
    {
     "data": {
      "image/png": "[encoded data removed]",
      "text/plain": [
       "<Figure size 432x288 with 1 Axes>"
      ]
     },
     "metadata": {
      "needs_background": "light"
     },
     "output_type": "display_data"
    }
   ],
   "source": [
    "for train_index, test_index in kf.split(x):\n",
    "    X_train, X_test = x[train_index], x[test_index]\n",
    "    y_train, y_test = y[train_index], y[test_index]\n",
    "    \n",
    "    # Scaling the data\n",
    "    scaler = StandardScaler()\n",
    "    scaler.fit(X_train)\n",
    "    X_train = scaler.transform(X_train)\n",
    "    X_test = scaler.transform(X_test)\n",
    "    \n",
    "    # Linear Regression\n",
    "    linear_reg = LinearRegression()\n",
    "    linear_reg.fit(X_train, y_train)\n",
    "    \n",
    "    predictions = linear_reg.predict(X_test)\n",
    "    mse_lr.append(np.sqrt(mean_squared_error(y_test, predictions)))    # Calculating MSE\n",
    "    mae_lr.append(mean_absolute_error(y_test, predictions))    # Calculating MAE\n",
    "    mape_lr.append(mape(y_test, predictions))    # Calculating MAPE\n",
    "    r2_lr.append(r2_score(y_test, predictions))    # Calculating r^2\n",
    "    \n",
    "    X_train = th.tensor(X_train, dtype=th.float32)\n",
    "    X_test = th.tensor(X_test, dtype=th.float32)\n",
    "    y_train = th.tensor(y_train, dtype=th.float32).view(-1, 1)\n",
    "    y_test = th.tensor(y_test, dtype=th.float32).view(-1, 1)\n",
    "    \n",
    "    # Neural Network\n",
    "    neural_net = NNModel()\n",
    "    curve = neural_net.fit(X_train, y_train, lr=0.008, lam=0)\n",
    "    plot_loss(curve)\n",
    "    \n",
    "    predictions = neural_net.predict(X_test, as_numpy=True)\n",
    "    mse_nn.append(np.sqrt(mean_squared_error(y_test, predictions)))    # Calculating MSE\n",
    "    mae_nn.append(mean_absolute_error(y_test, predictions))    # Calculating MAE\n",
    "    mape_nn.append(mape(y_test, predictions))    # Calculating MAPE\n",
    "    r2_nn.append(r2_score(y_test, predictions))    # Calculating r^2"
   ]
  },
  {
   "cell_type": "markdown",
   "source": [
    "#### Evaluating The Models Performances"
   ],
   "metadata": {
    "collapsed": false
   }
  },
  {
   "cell_type": "markdown",
   "source": [
    "#### Neural Network"
   ],
   "metadata": {
    "collapsed": false
   }
  },
  {
   "cell_type": "code",
   "execution_count": null,
   "outputs": [],
   "source": [
    "print('Neural Network Model - Root Mean Squared Error: ', np.mean(mse_nn))\n",
    "print('Neural Network Model - Mean Absolute Error: ', np.mean(mae_nn))\n",
    "print('Neural Network Model - Mean Absolute Percentage Error: ', np.mean(mape_nn))\n",
    "print('Neural Network Model - R2 Score: ', np.mean(r2_nn))"
   ],
   "metadata": {
    "collapsed": false,
    "pycharm": {
     "name": "#%%\n"
    }
   }
  },
  {
   "cell_type": "markdown",
   "source": [
    "#### Linear Regression"
   ],
   "metadata": {
    "collapsed": false
   }
  },
  {
   "cell_type": "code",
   "execution_count": null,
   "outputs": [],
   "source": [
    "print('Linear Regression Model - Root Mean Squared Error: ', np.mean(mse_lr))\n",
    "print('Linear Regression Model - Mean Absolute Error: ', np.mean(mae_lr))\n",
    "print('Linear Regression Model - Mean Absolute Percentage Error: ', np.mean(mape_lr))\n",
    "print('Linear Regression Model - R2 Score: ', np.mean(r2_lr))"
   ],
   "metadata": {
    "collapsed": false,
    "pycharm": {
     "name": "#%%\n"
    }
   }
  },
  {
   "cell_type": "markdown",
   "source": [
    "#### RMSE-  Root Mean Squared Error"
   ],
   "metadata": {
    "collapsed": false
   }
  },
  {
   "cell_type": "markdown",
   "source": [
    "The RMSE in the Linear Regression was 10.559011580397783 whereas in the Neural Network Model it was 5.6172895, so the Neural Network Model performed better by a significant amount."
   ],
   "metadata": {
    "collapsed": false
   }
  },
  {
   "cell_type": "code",
   "execution_count": null,
   "outputs": [],
   "source": [
    "print('Smallest Concrete compressive strength:', np.min(y), 'MPa')\n",
    "print('Largest Concrete compressive strength:', np.max(y), 'MPa')"
   ],
   "metadata": {
    "collapsed": false,
    "pycharm": {
     "name": "#%%\n"
    }
   }
  },
  {
   "cell_type": "markdown",
   "source": [
    "With the smallest Concrete compressive strength (MPa) being 2.33 MPa and the largest being 82.6 MPa, it is evident that the RMSE gained from both models were not too large, this is good since the errors were small."
   ],
   "metadata": {
    "collapsed": false
   }
  },
  {
   "cell_type": "markdown",
   "source": [
    "#### MAE- Mean Absolute Error"
   ],
   "metadata": {
    "collapsed": false
   }
  },
  {
   "cell_type": "markdown",
   "source": [
    "The Neural Network produced an MAE of 4.225154 whereas the Liner Regression Model produced an MAE 8.34601610130321, this means that here again the Neural Network Model performs better."
   ],
   "metadata": {
    "collapsed": false
   }
  },
  {
   "cell_type": "markdown",
   "source": [
    "#### MAPE- Mean Absolute Percentage Error\n",
    "\n",
    "The Neural Network produced a MAPE score of 13.897741 whereas the Liner Regression Model produced a MAPE 31.76189954592531, with the MAPE metric the Neural Network Model performs better."
   ],
   "metadata": {
    "collapsed": false
   }
  },
  {
   "cell_type": "markdown",
   "source": [
    "#### $r^2$ Error"
   ],
   "metadata": {
    "collapsed": false
   }
  },
  {
   "cell_type": "markdown",
   "source": [
    "The Neural Network produced an $r^2$ score of 0.8833942222350621 (88%) whereas the Liner Regression Model produced an $r^2$  score of 0.5937634733982854 (59%). So, the Neural Network Model performs better than the Linear Regression Model."
   ],
   "metadata": {
    "collapsed": false
   }
  },
  {
   "cell_type": "markdown",
   "source": [
    "#### T-test"
   ],
   "metadata": {
    "collapsed": false
   }
  },
  {
   "cell_type": "code",
   "execution_count": null,
   "outputs": [],
   "source": [
    "print('T-test comparing Linear Regression Model and the Neural Network Model: \\n')\n",
    "print('\\t', stats.ttest_rel(mse_lr, mse_nn))"
   ],
   "metadata": {
    "collapsed": false,
    "pycharm": {
     "name": "#%%\n"
    }
   }
  },
  {
   "cell_type": "markdown",
   "source": [
    "Using a significance level of 0.05, we see that theres is a statistically significant differrence between the performance of linear regression and the neural network "
   ],
   "metadata": {
    "collapsed": false
   }
  },
  {
   "cell_type": "markdown",
   "source": [
    "#### Selecting a Model for Production\n",
    "\n",
    "Based on the evaluation of the models performances, it can be seen that the Neural Network Model performed the best and should be the model that is put into production to evaluate unseen instances."
   ],
   "metadata": {
    "collapsed": false
   }
  },
  {
   "cell_type": "markdown",
   "source": [
    "***\n",
    "\n",
    "#### References\n",
    "\n",
    "PyTorch. 2019. PyTorch Documentation. https://pytorch.org/docs/stable/.\n",
    "\n"
   ],
   "metadata": {
    "collapsed": false
   }
  },
  {
   "cell_type": "markdown",
   "metadata": {},
   "source": [
    "***\n",
    "\n",
    "#### References\n",
    "\n",
    "PyTorch. 2019. PyTorch Documentation. https://pytorch.org/docs/stable/.\n",
    "\n"
   ]
  },
  {
   "cell_type": "markdown",
   "metadata": {},
   "source": [
    "#### Neural Network"
   ]
  },
  {
   "cell_type": "code",
   "execution_count": 14,
   "metadata": {
    "collapsed": false,
    "jupyter": {
     "outputs_hidden": false
    },
    "pycharm": {
     "name": "#%%\n"
    }
   },
   "outputs": [
    {
     "name": "stdout",
     "output_type": "stream",
     "text": [
      "Neural Network Model - Root Mean Squared Error:  5.6172895\n",
      "Neural Network Model - Mean Absolute Error:  4.225154\n",
      "Neural Network Model - Mean Absolute Percentage Error:  13.897741\n",
      "Neural Network Model - R2 Score:  0.8833942222350621\n"
     ]
    }
   ],
   "source": [
    "print('Neural Network Model - Root Mean Squared Error: ', np.mean(mse_nn))\n",
    "print('Neural Network Model - Mean Absolute Error: ', np.mean(mae_nn))\n",
    "print('Neural Network Model - Mean Absolute Percentage Error: ', np.mean(mape_nn))\n",
    "print('Neural Network Model - R2 Score: ', np.mean(r2_nn))"
   ]
  },
  {
   "cell_type": "markdown",
   "metadata": {},
   "source": [
    "#### Linear Regression"
   ]
  },
  {
   "cell_type": "code",
   "execution_count": 15,
   "metadata": {
    "collapsed": false,
    "jupyter": {
     "outputs_hidden": false
    },
    "pycharm": {
     "name": "#%%\n"
    }
   },
   "outputs": [
    {
     "name": "stdout",
     "output_type": "stream",
     "text": [
      "Linear Regression Model - Root Mean Squared Error:  10.559011580397783\n",
      "Linear Regression Model - Mean Absolute Error:  8.34601610130321\n",
      "Linear Regression Model - Mean Absolute Percentage Error:  31.76189954592531\n",
      "Linear Regression Model - R2 Score:  0.5937634733982854\n"
     ]
    }
   ],
   "source": [
    "print('Linear Regression Model - Root Mean Squared Error: ', np.mean(mse_lr))\n",
    "print('Linear Regression Model - Mean Absolute Error: ', np.mean(mae_lr))\n",
    "print('Linear Regression Model - Mean Absolute Percentage Error: ', np.mean(mape_lr))\n",
    "print('Linear Regression Model - R2 Score: ', np.mean(r2_lr))"
   ]
  },
  {
   "cell_type": "markdown",
   "metadata": {},
   "source": [
    "#### RMSE-  Root Mean Squared Error"
   ]
  },
  {
   "cell_type": "markdown",
   "metadata": {},
   "source": [
    "The RMSE in the Linear Regression was 10.559011580397783 whereas in the Neural Network Model it was 5.6172895, so the Neural Network Model performed better by a significant amount."
   ]
  },
  {
   "cell_type": "code",
   "execution_count": 16,
   "metadata": {},
   "outputs": [
    {
     "name": "stdout",
     "output_type": "stream",
     "text": [
      "Smallest Concrete compressive strength: 2.33 MPa\n",
      "Largest Concrete compressive strength: 82.6 MPa\n"
     ]
    }
   ],
   "source": [
    "print('Smallest Concrete compressive strength:', np.min(y), 'MPa')\n",
    "print('Largest Concrete compressive strength:', np.max(y), 'MPa')"
   ]
  },
  {
   "cell_type": "markdown",
   "metadata": {},
   "source": [
    "With the smallest Concrete compressive strength (MPa) being 2.33 MPa and the largest being 82.6 MPa, it is evident that the RMSE gained from both models were not too large, this is good since the errors were small."
   ]
  },
  {
   "cell_type": "markdown",
   "metadata": {},
   "source": [
    "#### MAE- Mean Absolute Error"
   ]
  },
  {
   "cell_type": "markdown",
   "metadata": {},
   "source": [
    "The Neural Network produced an MAE of 4.225154 whereas the Liner Regression Model produced an MAE 8.34601610130321, this means that here again the Neural Network Model performs better."
   ]
  },
  {
   "cell_type": "markdown",
   "metadata": {},
   "source": [
    "#### MAPE- Mean Absolute Percentage Error\n",
    "\n",
    "The Neural Network produced a MAPE score of 13.897741 whereas the Liner Regression Model produced a MAPE 31.76189954592531, with the MAPE metric the Neural Network Model performs better."
   ]
  },
  {
   "cell_type": "markdown",
   "metadata": {},
   "source": [
    "#### $r^2$ Error"
   ]
  },
  {
   "cell_type": "markdown",
   "metadata": {},
   "source": [
    "The Neural Network produced an $r^2$ score of 0.8833942222350621 (88%) whereas the Liner Regression Model produced an $r^2$  score of 0.5937634733982854 (59%). So, the Neural Network Model performs better than the Linear Regression Model."
   ]
  },
  {
   "cell_type": "markdown",
   "metadata": {},
   "source": [
    "#### T-test"
   ]
  },
  {
   "cell_type": "code",
   "execution_count": 17,
   "metadata": {
    "collapsed": false,
    "jupyter": {
     "outputs_hidden": false
    },
    "pycharm": {
     "name": "#%%\n"
    }
   },
   "outputs": [
    {
     "name": "stdout",
     "output_type": "stream",
     "text": [
      "T-test comparing Linear Regression Model and the Neural Network Model: \n",
      "\n",
      "\t Ttest_relResult(statistic=20.76558577435423, pvalue=3.177531084067026e-05)\n"
     ]
    }
   ],
   "source": [
    "print('T-test comparing Linear Regression Model and the Neural Network Model: \\n')\n",
    "print('\\t', stats.ttest_rel(mse_lr, mse_nn))"
   ]
  },
  {
   "cell_type": "markdown",
   "metadata": {
    "pycharm": {
     "name": "#%% md\n"
    }
   },
   "source": [
    "Using a significance level of 0.05, we see that theres is a statistically significant differrence between the performance of linear regression and the neural network "
   ]
  },
  {
   "cell_type": "markdown",
   "metadata": {},
   "source": [
    "#### Selecting a Model for Production\n",
    "\n",
    "Based on the evaluation of the models performances, it can be seen that the Neural Network Model performed the best and should be the model that is put into production to evaluate unseen instances."
   ]
  },
  {
   "cell_type": "markdown",
   "metadata": {},
   "source": [
    "***\n",
    "\n",
    "#### References\n",
    "\n",
    "PyTorch. 2019. PyTorch Documentation. https://pytorch.org/docs/stable/.\n",
    "\n"
   ]
  }
 ],
 "metadata": {
  "kernelspec": {
   "display_name": "Python 3",
   "language": "python",
   "name": "python3"
  },
  "language_info": {
   "codemirror_mode": {
    "name": "ipython",
    "version": 3
   },
   "file_extension": ".py",
   "mimetype": "text/x-python",
   "name": "python",
   "nbconvert_exporter": "python",
   "pygments_lexer": "ipython3",
   "version": "3.7.4"
  }
 },
 "nbformat": 4,
 "nbformat_minor": 4
}