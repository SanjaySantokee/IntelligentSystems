{
 "cells": [
  {
   "cell_type": "markdown",
   "metadata": {},
   "source": [
    "## Sanjay Santokee - sanjay.santokee@my.uwi.edu\n"
   ]
  },
  {
   "cell_type": "code",
   "execution_count": 1,
   "metadata": {},
   "outputs": [
    {
     "name": "stdout",
     "output_type": "stream",
     "text": [
      "Populating the interactive namespace from numpy and matplotlib\n"
     ]
    }
   ],
   "source": [
    "%pylab inline\n",
    "%load_ext autoreload\n",
    "%autoreload 2"
   ]
  },
  {
   "cell_type": "markdown",
   "metadata": {
    "pycharm": {
     "name": "#%% md\n"
    }
   },
   "source": [
    "#### Importing Necessary Libraries"
   ]
  },
  {
   "cell_type": "code",
   "execution_count": 2,
   "metadata": {},
   "outputs": [],
   "source": [
    "import copy\n",
    "from DS import Queue, PriorityQueue, Stack\n",
    "import numpy as np\n",
    "import networkx as nx"
   ]
  },
  {
   "cell_type": "markdown",
   "metadata": {},
   "source": [
    "#### Setting up State Class"
   ]
  },
  {
   "cell_type": "code",
   "execution_count": 3,
   "metadata": {},
   "outputs": [],
   "source": [
    "class State(object):\n",
    "    def __init__(self, city):\n",
    "        self.city = city\n",
    "        self.f = 0 # approx cost from start to goal through this state\n",
    "        self.g = 0 # actual cost from start\n",
    "        self.h = 0 # approx cost from goal\n",
    "    \n",
    "    \n",
    "    # give string representation for easier display\n",
    "    def __str__(self):\n",
    "        return self.city\n",
    "    \n",
    "    # used to provide hashcode for hashing-based data structures like dictionaries and sets\n",
    "    def __hash__(self):\n",
    "        return hash(self.city)\n",
    "    \n",
    "    # need to give dummy implementation for priority queue based algorithms\n",
    "    def __lt__(self, other):\n",
    "        return 0"
   ]
  },
  {
   "cell_type": "markdown",
   "metadata": {},
   "source": [
    "#### Setting up Graph"
   ]
  },
  {
   "cell_type": "code",
   "execution_count": 4,
   "metadata": {},
   "outputs": [],
   "source": [
    "class Graph(object):\n",
    "    def __init__(self, solution_state):\n",
    "        self.solution_state = State(solution_state)\n",
    "        \n",
    "    # admissable heuristic on states\n",
    "    def h(self, state):\n",
    "        return distance_between(state.city, self.solution_state.city)\n",
    "    \n",
    "    # generate states that can be reached from another state \n",
    "    def get_edges(self, state):\n",
    "        for _, adj_city, cost in map_graph.edges(nbunch=state.city, data='cost'):\n",
    "            adj_state = State(adj_city)\n",
    "            yield adj_state, cost"
   ]
  },
  {
   "cell_type": "markdown",
   "metadata": {},
   "source": [
    "#### Admissable Heuristic (Straight-line distance)"
   ]
  },
  {
   "cell_type": "code",
   "execution_count": 5,
   "metadata": {},
   "outputs": [],
   "source": [
    "def distance_between(city1, city2):\n",
    "    x1, y1 = coords[city1]\n",
    "    x2, y2 = coords[city2]\n",
    "    return np.sqrt((x2 - x1) ** 2 + (y2 - y1) ** 2)"
   ]
  },
  {
   "cell_type": "markdown",
   "metadata": {},
   "source": [
    "#### Function to Print Solution Route"
   ]
  },
  {
   "cell_type": "code",
   "execution_count": 6,
   "metadata": {},
   "outputs": [],
   "source": [
    "def print_solution(parents, goal):\n",
    "    \n",
    "    route = []\n",
    "    \n",
    "    curr = goal\n",
    "    stack = Stack()\n",
    "    stack.push(curr)\n",
    "    while parents[curr]:\n",
    "        curr = parents[curr]\n",
    "        stack.push(curr)\n",
    "    while stack:\n",
    "        route.append(stack.pop().city)\n",
    "    print(' → '.join(route))"
   ]
  },
  {
   "cell_type": "markdown",
   "metadata": {},
   "source": [
    "#### Function to Check if Romeo and Juliet are in the same city"
   ]
  },
  {
   "cell_type": "code",
   "execution_count": 7,
   "metadata": {},
   "outputs": [],
   "source": [
    "def goal_test(r_current, j_current):\n",
    "    return r_current.city == j_current.city"
   ]
  },
  {
   "cell_type": "markdown",
   "metadata": {},
   "source": [
    "#### A* Function"
   ]
  },
  {
   "cell_type": "code",
   "execution_count": 8,
   "metadata": {},
   "outputs": [],
   "source": [
    "def a_star(r_start_state, j_start_state, goal_test):\n",
    "    \n",
    "    # Setting up Romeo's Priority Queue, starting position, parents and explored set\n",
    "    r_pqueue = PriorityQueue()\n",
    "    r_pqueue.push(0, r_start_state)\n",
    "    r_parents = {r_start_state: None}\n",
    "    r_explored = set()\n",
    "    \n",
    "    # Setting up Juliet's Priority Queue, starting position, parents and explored set\n",
    "    j_pqueue = PriorityQueue()\n",
    "    j_pqueue.push(0, j_start_state)\n",
    "    j_parents = {j_start_state: None}\n",
    "    j_explored = set()\n",
    "    \n",
    "    \n",
    "    # Setting Juliet's current state to be 'None' \n",
    "    # since a goal test must be done before updating \n",
    "    # Juliet's location so as to prevent the algorithm \n",
    "    # from skipping it and not finding the most optimal path\n",
    "    \n",
    "    j_current = State('None')\n",
    "    \n",
    "    while r_pqueue and j_pqueue:\n",
    "        \n",
    "        # Getting Romeo's current location\n",
    "        i, r_current = r_pqueue.pop()\n",
    "        r_explored.add(r_current)\n",
    "        \n",
    "        # Checking to see if both Romeo and Juliet are at the same city together        \n",
    "        if goal_test(r_current, j_current):\n",
    "            print('\\n\\nRomeo\\'s route')\n",
    "            print_solution(r_parents, r_current)\n",
    "            print('\\n\\nJuliet\\'s route')\n",
    "            print_solution(j_parents, j_current)\n",
    "            return True\n",
    "        \n",
    "        # Getting Juliet's current location\n",
    "        i, j_current = j_pqueue.pop()\n",
    "        j_explored.add(j_current)\n",
    "        \n",
    "        # Checking to see if both Romeo and Juliet are at the same city together\n",
    "        if goal_test(r_current, j_current):\n",
    "            print('\\n\\nRomeo\\'s route')\n",
    "            print_solution(r_parents, r_current)\n",
    "            print('\\n\\nJuliet\\'s route')\n",
    "            print_solution(j_parents, j_current)\n",
    "            return True\n",
    "        \n",
    "        # Updating Graphs with new goal cities\n",
    "        # Romeo's goal would now be to reach Juliet's Location\n",
    "        # Juliet's goal would now be to reach Romeo's Location\n",
    "        r_graph = Graph(j_current.city)\n",
    "        j_graph = Graph(r_current.city)\n",
    "        \n",
    "        # Utilizing Admissiable Heuristic (Straight-line distance)\n",
    "        for r_adj_state, r_cost in r_graph.get_edges(r_current):\n",
    "            g1 = r_current.g + r_cost\n",
    "            h1 = r_graph.h(r_adj_state)\n",
    "            f1 = g1 + h1\n",
    "            if (r_adj_state in r_pqueue and r_pqueue[r_adj_state] > f1) or r_adj_state not in r_pqueue:\n",
    "                r_adj_state.f = f1\n",
    "                r_adj_state.g = g1\n",
    "                r_adj_state.h = h1\n",
    "                r_pqueue[r_adj_state] = f1\n",
    "                r_parents[r_adj_state] = r_current\n",
    "        \n",
    "        # Utilizing Admissiable Heuristic (Straight-line distance)\n",
    "        for j_adj_state, j_cost in j_graph.get_edges(j_current):\n",
    "            g2 = j_current.g + j_cost\n",
    "            h2 = j_graph.h(j_adj_state)\n",
    "            f2 = g2 + h2\n",
    "            if (j_adj_state in j_pqueue and j_pqueue[j_adj_state] > f2) or j_adj_state not in j_pqueue:\n",
    "                j_adj_state.f = f2\n",
    "                j_adj_state.g = g2\n",
    "                j_adj_state.h = h2\n",
    "                j_pqueue[j_adj_state] = f2\n",
    "                j_parents[j_adj_state] = j_current\n",
    "                \n",
    "    print('No Solution found')\n",
    "    return False"
   ]
  },
  {
   "cell_type": "markdown",
   "metadata": {},
   "source": [
    "#### Reading in the Graph of cities and their traversal costs"
   ]
  },
  {
   "cell_type": "code",
   "execution_count": 9,
   "metadata": {},
   "outputs": [],
   "source": [
    "map_graph = nx.Graph()\n",
    "with open('cities.csv', 'r') as fp:\n",
    "    lines = list(fp)\n",
    "    lines = map(lambda x: x.strip().split(','), lines)\n",
    "    for frm, to, cost in lines:\n",
    "        map_graph.add_edge(u_of_edge=frm, v_of_edge=to, cost=float(cost))"
   ]
  },
  {
   "cell_type": "markdown",
   "metadata": {},
   "source": [
    "#### Reading in the Coordinates of the Cities"
   ]
  },
  {
   "cell_type": "code",
   "execution_count": 10,
   "metadata": {},
   "outputs": [],
   "source": [
    "coords = {}\n",
    "\n",
    "with open('coords.csv', 'r') as fp:\n",
    "    lines = list(fp)\n",
    "    lines = map(lambda x: x.strip().split(','), lines)\n",
    "    for loc, x, y in lines:\n",
    "        coords[loc] = (float(x), float(y))\n",
    "        "
   ]
  },
  {
   "cell_type": "markdown",
   "metadata": {},
   "source": [
    "#### Viewing all of the Cities in the Graph"
   ]
  },
  {
   "cell_type": "code",
   "execution_count": 11,
   "metadata": {},
   "outputs": [
    {
     "data": {
      "text/plain": [
       "NodeView(('Ipswich', 'Swindon', 'Rochdale', 'Bexley', 'Brighton', 'Sutton', 'Stevenage', 'Gillingham', 'Stoke-on-Trent', 'Watford', 'Poole', 'Stockport', 'Eastbourne', 'Doncaster', 'Grays', 'Cardiff', 'Huddersfield', 'Maidstone', 'Oxford', 'Mansfield', 'Colchester', 'Worthing', 'Edinburgh', 'Wigan', 'Harlow', 'Luton', 'London', 'Dagenham', 'Dudley', 'Walsall', 'Glasgow', 'Darlington', 'Grimsby', 'Islington', 'Southport', 'Hastings', 'Woking', 'Manchester', 'Belfast', 'Plymouth', 'Bolton', 'Solihull', 'Telford', 'Reading', 'Northampton', 'Chesterfield', 'Warrington', 'Bath', 'Croydon', 'Peterborough', 'Basildon', 'Blackpool', 'Newport', 'Blackburn', 'Cambridge', 'Sunderland', 'Southampton', 'York', 'Swansea', 'Norwich', 'Portsmouth', 'Bournemouth', 'Worcester', 'Coventry', 'Nuneaton', 'Romford', 'Crawley', 'Archway', 'Leicester', 'Nottingham', 'Liverpool', 'Wembley', 'Burnley', 'Preston', 'Becontree', 'Harrogate', 'Aberdeen', 'Sheffield', 'Derby', 'Bristol', 'Slough', 'Chelmsford', 'Lincoln', 'Bradford', 'Birkenhead', 'Leeds', 'Middlesbrough', 'Bedford', 'Wolverhampton', 'Gloucester', 'Southend-on-Sea', 'Chester', 'Cheltenham', 'Basingstoke', 'Oldham', 'Mendip', 'Exeter', 'Rotherham', 'Dundee', 'Birmingham'))"
      ]
     },
     "execution_count": 11,
     "metadata": {},
     "output_type": "execute_result"
    }
   ],
   "source": [
    "map_graph.nodes()"
   ]
  },
  {
   "cell_type": "markdown",
   "metadata": {},
   "source": [
    "#### Viewing all of the Edges from London in the Graph"
   ]
  },
  {
   "cell_type": "code",
   "execution_count": 12,
   "metadata": {},
   "outputs": [
    {
     "data": {
      "text/plain": [
       "EdgeDataView([('London', 'Wigan', 911.3692756831273), ('London', 'Liverpool', 1018.1057181986507), ('London', 'Lincoln', 539.2857371928465), ('London', 'Leeds', 650.5713032241687), ('London', 'Cambridge', 177.89646833707764), ('London', 'Edinburgh', 1632.0004152200859), ('London', 'Southampton', 422.27730939002726), ('London', 'Chester', 972.8471351399976), ('London', 'Dundee', 763.4470906072128), ('London', 'Rotherham', 342.73398696283937), ('London', 'Belfast', 897.1224710447809), ('London', 'Bexley', 84.75216020119203)])"
      ]
     },
     "execution_count": 12,
     "metadata": {},
     "output_type": "execute_result"
    }
   ],
   "source": [
    "map_graph.edges(nbunch='London', data='cost')"
   ]
  },
  {
   "cell_type": "markdown",
   "metadata": {},
   "source": [
    "#### Setting the Starting Locations for Romeo and Juliet"
   ]
  },
  {
   "cell_type": "code",
   "execution_count": 13,
   "metadata": {},
   "outputs": [],
   "source": [
    "r_start_state = State('London')\n",
    "j_start_state = State('Edinburgh')"
   ]
  },
  {
   "cell_type": "markdown",
   "metadata": {},
   "source": [
    "#### Running A*"
   ]
  },
  {
   "cell_type": "code",
   "execution_count": 14,
   "metadata": {},
   "outputs": [
    {
     "name": "stdout",
     "output_type": "stream",
     "text": [
      "\n",
      "\n",
      "Romeo's route\n",
      "London → Bexley → Reading → Stevenage\n",
      "\n",
      "\n",
      "Juliet's route\n",
      "Edinburgh → Stevenage\n"
     ]
    },
    {
     "data": {
      "text/plain": [
       "True"
      ]
     },
     "execution_count": 14,
     "metadata": {},
     "output_type": "execute_result"
    }
   ],
   "source": [
    "a_star(r_start_state, j_start_state, goal_test)"
   ]
  },
  {
   "cell_type": "markdown",
   "metadata": {},
   "source": [
    "***\n",
    "#### References\n",
    "\n",
    "Mykel J. Kochenderfer, Tim A. Wheeler. 2019. Algorithms for Optimization. Cambridge, Massachusetts: The MIT Press."
   ]
  }
 ],
 "metadata": {
  "kernelspec": {
   "display_name": "Python 3",
   "language": "python",
   "name": "python3"
  },
  "language_info": {
   "codemirror_mode": {
    "name": "ipython",
    "version": 3
   },
   "file_extension": ".py",
   "mimetype": "text/x-python",
   "name": "python",
   "nbconvert_exporter": "python",
   "pygments_lexer": "ipython3",
   "version": "3.7.4"
  }
 },
 "nbformat": 4,
 "nbformat_minor": 4
}